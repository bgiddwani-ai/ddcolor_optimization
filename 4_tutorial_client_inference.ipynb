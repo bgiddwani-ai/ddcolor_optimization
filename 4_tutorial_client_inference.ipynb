{
 "cells": [
  {
   "cell_type": "code",
   "execution_count": null,
   "metadata": {},
   "outputs": [],
   "source": [
    "!pip install tritonclient[all]"
   ]
  },
  {
   "cell_type": "markdown",
   "metadata": {},
   "source": [
    "## 1: Imports"
   ]
  },
  {
   "cell_type": "code",
   "execution_count": null,
   "metadata": {},
   "outputs": [],
   "source": [
    "import os\n",
    "import time\n",
    "from pathlib import Path\n",
    "import numpy as np\n",
    "import cv2\n",
    "import tritonclient.http as httpclient"
   ]
  },
  {
   "cell_type": "markdown",
   "metadata": {},
   "source": [
    "## 2: Setup Triton Client & Config"
   ]
  },
  {
   "cell_type": "code",
   "execution_count": null,
   "metadata": {},
   "outputs": [],
   "source": [
    "TRITON_URL = \"10.67.32.50:8000\"\n",
    "MODEL_NAME = \"ddcolor_trt\"\n",
    "BATCH_SIZE = 4\n",
    "IMAGE_SIZE = (512, 512)\n",
    "\n",
    "client = httpclient.InferenceServerClient(url=TRITON_URL)\n",
    "if client.is_model_ready(MODEL_NAME):\n",
    "    print(f\"✅ Connected to Triton and model '{MODEL_NAME}' is ready.\")\n",
    "else:\n",
    "    raise RuntimeError(\"❌ Model not ready.\")"
   ]
  },
  {
   "cell_type": "markdown",
   "metadata": {},
   "source": [
    "## 3: Define Preprocessing & Postprocessing Function"
   ]
  },
  {
   "cell_type": "code",
   "execution_count": null,
   "metadata": {},
   "outputs": [],
   "source": [
    "def preprocess_image(img_path, image_size=(512, 512)):\n",
    "    img = cv2.imread(img_path)\n",
    "    if img is None:\n",
    "        raise ValueError(f\"Cannot read {img_path}\")\n",
    "\n",
    "    orig_size = (img.shape[1], img.shape[0])\n",
    "    rgb = cv2.cvtColor(img, cv2.COLOR_BGR2RGB).astype(np.float32) / 255.0\n",
    "    lab = cv2.cvtColor(rgb, cv2.COLOR_RGB2LAB)\n",
    "    l = lab[:, :, 0:1]\n",
    "    gray_lab = np.concatenate([l, np.zeros_like(l), np.zeros_like(l)], axis=-1)\n",
    "    gray_rgb = cv2.cvtColor(gray_lab, cv2.COLOR_LAB2RGB)\n",
    "    gray_rgb = cv2.resize(gray_rgb, image_size)\n",
    "    inp = gray_rgb.transpose(2, 0, 1).astype(np.float32)\n",
    "    return inp, l, orig_size\n",
    "\n",
    "\n",
    "\n",
    "def postprocess_image(output_ab, orig_l, orig_size):\n",
    "    W, H = orig_size\n",
    "    ab = cv2.resize(output_ab.transpose(1, 2, 0), (W, H))\n",
    "    lab_out = np.concatenate([orig_l, ab], axis=-1)\n",
    "    rgb = cv2.cvtColor(lab_out, cv2.COLOR_LAB2RGB)\n",
    "    rgb = np.clip(rgb, 0, 1)\n",
    "    return (rgb * 255).astype(np.uint8)\n"
   ]
  },
  {
   "cell_type": "markdown",
   "metadata": {},
   "source": [
    "## 4: Inference"
   ]
  },
  {
   "cell_type": "code",
   "execution_count": null,
   "metadata": {},
   "outputs": [],
   "source": [
    "def infer_batch(batch_array):\n",
    "    inputs = [httpclient.InferInput(\"input\", batch_array.shape, \"FP32\")]\n",
    "    inputs[0].set_data_from_numpy(batch_array)\n",
    "    outputs = [httpclient.InferRequestedOutput(\"output\")]\n",
    "    result = client.infer(model_name=MODEL_NAME, inputs=inputs, outputs=outputs)\n",
    "    out_array = result.as_numpy(\"output\")\n",
    "    return out_array\n",
    "\n",
    "def colorize_directory(input_dir, output_dir):\n",
    "    os.makedirs(output_dir, exist_ok=True)\n",
    "    image_files = [p for p in Path(input_dir).glob(\"*\") if p.suffix.lower() in [\".jpg\", \".png\", \".jpeg\", \".bmp\"]]\n",
    "    if not image_files:\n",
    "        print(\"❌ No images found.\"); return\n",
    "\n",
    "    print(f\"📂 Found {len(image_files)} images. Processing in batches of {BATCH_SIZE}...\")\n",
    "    total_time = 0\n",
    "    processed = 0\n",
    "\n",
    "    for i in range(0, len(image_files), BATCH_SIZE):\n",
    "        batch_paths = image_files[i:i + BATCH_SIZE]\n",
    "        batch, Ls, sizes = [], [], []\n",
    "        for p in batch_paths:\n",
    "            inp, l, s = preprocess_image(str(p), IMAGE_SIZE)\n",
    "            batch.append(inp); Ls.append(l); sizes.append(s)\n",
    "        batch_array = np.stack(batch, axis=0)\n",
    "\n",
    "        start = time.time()\n",
    "        output = infer_batch(batch_array)\n",
    "        total_time += time.time() - start\n",
    "\n",
    "        for j, p in enumerate(batch_paths):\n",
    "            out = postprocess_image(output[j], Ls[j], sizes[j])\n",
    "            out_path = Path(output_dir) / f\"colorized_{p.name}\"\n",
    "            cv2.imwrite(str(out_path), cv2.cvtColor(out, cv2.COLOR_RGB2BGR))\n",
    "            print(f\"✅ Saved {out_path.name}\")\n",
    "            processed += 1\n",
    "\n",
    "    print(f\"\\n🏁 Done. {processed} images processed in {total_time:.2f}s \"\n",
    "          f\"({total_time/processed:.3f}s per image)\")\n"
   ]
  },
  {
   "cell_type": "code",
   "execution_count": null,
   "metadata": {},
   "outputs": [],
   "source": [
    "input_dir = \"./grayscale_images\"\n",
    "output_dir = \"./colorized_images\"\n",
    "\n",
    "colorize_directory(input_dir, output_dir)"
   ]
  },
  {
   "cell_type": "code",
   "execution_count": null,
   "metadata": {},
   "outputs": [],
   "source": []
  }
 ],
 "metadata": {
  "kernelspec": {
   "display_name": "Python 3 (ipykernel)",
   "language": "python",
   "name": "python3"
  },
  "language_info": {
   "codemirror_mode": {
    "name": "ipython",
    "version": 3
   },
   "file_extension": ".py",
   "mimetype": "text/x-python",
   "name": "python",
   "nbconvert_exporter": "python",
   "pygments_lexer": "ipython3",
   "version": "3.12.3"
  }
 },
 "nbformat": 4,
 "nbformat_minor": 4
}
